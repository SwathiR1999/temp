{
  "nbformat": 4,
  "nbformat_minor": 0,
  "metadata": {
    "colab": {
      "provenance": [],
      "gpuType": "L4"
    },
    "kernelspec": {
      "name": "python3",
      "display_name": "Python 3"
    },
    "language_info": {
      "name": "python"
    },
    "accelerator": "GPU"
  },
  "cells": [
    {
      "cell_type": "code",
      "source": [
        "root_dir =\"/content/drive/MyDrive/Zero_Shot_DeepFake_Image_Classification/\""
      ],
      "metadata": {
        "id": "uHIMLUlQxn_s"
      },
      "execution_count": 1,
      "outputs": []
    },
    {
      "cell_type": "code",
      "source": [
        "import torch\n",
        "import torch.nn as nn\n",
        "from torch.utils.data import DataLoader\n",
        "from torchvision import datasets, transforms\n",
        "from torchvision.models import vit_b_16\n",
        "import torch.optim as optim\n",
        "from tqdm import tqdm\n",
        "import os\n",
        "from sklearn.metrics import confusion_matrix\n",
        "import numpy as np\n",
        "import seaborn as sns\n",
        "import matplotlib.pyplot as plt\n",
        "import random"
      ],
      "metadata": {
        "id": "_YdDdtcSxkZw"
      },
      "execution_count": 2,
      "outputs": []
    },
    {
      "cell_type": "code",
      "source": [
        "seed = 43\n",
        "random.seed(seed)\n",
        "np.random.seed(seed)\n",
        "torch.manual_seed(seed)\n",
        "torch.cuda.manual_seed(seed)\n",
        "torch.backends.cudnn.deterministic = True\n",
        "torch.backends.cudnn.benchmark = False"
      ],
      "metadata": {
        "id": "6Va7pDdFVtYf"
      },
      "execution_count": 3,
      "outputs": []
    },
    {
      "cell_type": "code",
      "execution_count": 4,
      "metadata": {
        "id": "UKETrgi0xekO"
      },
      "outputs": [],
      "source": [
        "dataset_root_dir = root_dir + 'DeepfakeEmpiricalStudy/dataset/'\n",
        "train_dir = dataset_root_dir + 'CELEB/test'\n",
        "val_dir = dataset_root_dir + 'CELEB/val'\n",
        "test_dirs = [dataset_root_dir + 'CELEB-M/test', dataset_root_dir + 'DF/test', dataset_root_dir + 'DFD/test', \\\n",
        "             dataset_root_dir + 'F2F/test', dataset_root_dir + 'FS-I/test', dataset_root_dir + 'NT-I/test' ]\n",
        "\n",
        "models_root_dir = root_dir + 'DeepfakeEmpiricalStudy_Models/'"
      ]
    },
    {
      "cell_type": "code",
      "source": [
        "batch_size = 64\n",
        "num_epochs = 5\n",
        "learning_rate = 1e-4\n",
        "device = torch.device(\"cuda\" if torch.cuda.is_available() else \"cpu\")\n",
        "\n",
        "transform = transforms.Compose([\n",
        "    transforms.Resize((224, 224)),\n",
        "    transforms.ToTensor(),\n",
        "    transforms.Normalize(mean=[0.485, 0.456, 0.406], std=[0.229, 0.224, 0.225])\n",
        "])\n",
        "\n",
        "train_dataset = datasets.ImageFolder(train_dir, transform=transform)\n",
        "val_dataset = datasets.ImageFolder(val_dir, transform=transform)\n",
        "train_loader = DataLoader(train_dataset, batch_size=batch_size, shuffle=True)\n",
        "val_loader = DataLoader(val_dataset, batch_size=batch_size, shuffle=False)\n",
        "\n",
        "# class TransformerBasedModel(nn.Module):\n",
        "#     def __init__(self, num_classes=2):\n",
        "#         super(TransformerBasedModel, self).__init__()\n",
        "#         self.vit = vit_b_16(pretrained=True)\n",
        "#         #self.vit.heads = nn.Linear(self.vit.heads.in_features, num_classes)\n",
        "\n",
        "#     def forward(self, x):\n",
        "#         return self.vit(x)"
      ],
      "metadata": {
        "id": "9ypW6p62VUBK"
      },
      "execution_count": 5,
      "outputs": []
    },
    {
      "cell_type": "code",
      "source": [
        "class TransformerBasedModel(nn.Module):\n",
        "    def __init__(self, num_classes=2):\n",
        "        super(TransformerBasedModel, self).__init__()\n",
        "        self.vit = vit_b_16(pretrained=False)\n",
        "\n",
        "        vit_weights = torch.load(models_root_dir + 'vit_b_16-c867db91.pth')\n",
        "        self.vit.load_state_dict(vit_weights)\n",
        "\n",
        "        for param in self.vit.parameters():\n",
        "            param.requires_grad = True\n",
        "\n",
        "        self.classifier = nn.Linear(self.vit.heads.head.in_features, num_classes)\n",
        "        self.vit.heads.head = self.classifier\n",
        "\n",
        "    def forward(self, x):\n",
        "        x = self.vit(x)\n",
        "        return x\n",
        "\n",
        "\n",
        "model = TransformerBasedModel(num_classes=2).to(device)\n",
        "criterion = nn.CrossEntropyLoss()\n",
        "optimizer = optim.Adam(model.parameters(), lr=learning_rate)"
      ],
      "metadata": {
        "colab": {
          "base_uri": "https://localhost:8080/"
        },
        "id": "MK0V69DEValn",
        "outputId": "6a62e57f-3792-403e-b63a-db806bed5137"
      },
      "execution_count": 6,
      "outputs": [
        {
          "output_type": "stream",
          "name": "stderr",
          "text": [
            "/usr/local/lib/python3.10/dist-packages/torchvision/models/_utils.py:208: UserWarning: The parameter 'pretrained' is deprecated since 0.13 and may be removed in the future, please use 'weights' instead.\n",
            "  warnings.warn(\n",
            "/usr/local/lib/python3.10/dist-packages/torchvision/models/_utils.py:223: UserWarning: Arguments other than a weight enum or `None` for 'weights' are deprecated since 0.13 and may be removed in the future. The current behavior is equivalent to passing `weights=None`.\n",
            "  warnings.warn(msg)\n",
            "<ipython-input-6-9e22824b3584>:6: FutureWarning: You are using `torch.load` with `weights_only=False` (the current default value), which uses the default pickle module implicitly. It is possible to construct malicious pickle data which will execute arbitrary code during unpickling (See https://github.com/pytorch/pytorch/blob/main/SECURITY.md#untrusted-models for more details). In a future release, the default value for `weights_only` will be flipped to `True`. This limits the functions that could be executed during unpickling. Arbitrary objects will no longer be allowed to be loaded via this mode unless they are explicitly allowlisted by the user via `torch.serialization.add_safe_globals`. We recommend you start setting `weights_only=True` for any use case where you don't have full control of the loaded file. Please open an issue on GitHub for any issues related to this experimental feature.\n",
            "  vit_weights = torch.load(models_root_dir + 'vit_b_16-c867db91.pth')\n"
          ]
        }
      ]
    },
    {
      "cell_type": "code",
      "source": [
        "def train_model(model, train_loader, val_loader, criterion, optimizer, num_epochs):\n",
        "    model.train()\n",
        "    best_acc = 0.0\n",
        "\n",
        "    for epoch in range(num_epochs):\n",
        "        running_loss = 0.0\n",
        "        correct = 0\n",
        "        total = 0\n",
        "        for inputs, labels in tqdm(train_loader):\n",
        "            inputs, labels = inputs.to(device), labels.to(device)\n",
        "\n",
        "            outputs = model(inputs)\n",
        "            loss = criterion(outputs, labels)\n",
        "\n",
        "            optimizer.zero_grad()\n",
        "            loss.backward()\n",
        "            optimizer.step()\n",
        "\n",
        "            running_loss += loss.item() * inputs.size(0)\n",
        "            _, predicted = torch.max(outputs, 1)\n",
        "            total += labels.size(0)\n",
        "            correct += (predicted == labels).sum().item()\n",
        "\n",
        "        train_acc = correct / total\n",
        "        val_acc = evaluate_model(model, val_loader, criterion)[0]\n",
        "\n",
        "        print(\"Epoch \"+str(epoch+1)+\", Loss: \"+str(running_loss/total)+\", Train Accuracy: \"+str(train_acc)+\", Val Accuracy: \"+str(val_acc))\n",
        "\n",
        "        #print(f\"Epoch [{epoch+1}/{num_epochs}], Loss: {running_loss/total:.4f}, Train Accuracy: {train_acc:.4f}, Val Accuracy: {val_acc:.4f}\")\n",
        "\n",
        "        if val_acc > best_acc:\n",
        "            best_acc = val_acc\n",
        "            torch.save(model.state_dict(), models_root_dir + 'best_vit_model.pth')\n",
        "            print('Model saved!')\n",
        "\n",
        "    print(f\"Training complete. Best validation accuracy: {best_acc:.4f}\")\n",
        "\n",
        "def evaluate_model(model, loader, criterion):\n",
        "    model.eval()\n",
        "    correct = 0\n",
        "    total = 0\n",
        "    all_preds = []\n",
        "    all_labels = []\n",
        "    with torch.no_grad():\n",
        "        for inputs, labels in loader:\n",
        "            inputs, labels = inputs.to(device), labels.to(device)\n",
        "            outputs = model(inputs)\n",
        "            _, predicted = torch.max(outputs, 1)\n",
        "            total += labels.size(0)\n",
        "            correct += (predicted == labels).sum().item()\n",
        "            all_preds.extend(predicted.cpu().numpy())\n",
        "            all_labels.extend(labels.cpu().numpy())\n",
        "\n",
        "    return correct / total, np.array(all_labels), np.array(all_preds)"
      ],
      "metadata": {
        "id": "aQ4SwYmNVfYP"
      },
      "execution_count": 7,
      "outputs": []
    },
    {
      "cell_type": "code",
      "source": [
        "def plot_confusion_matrix(cm, classes, title='Confusion Matrix'):\n",
        "    plt.figure(figsize=(8, 6))\n",
        "    sns.heatmap(cm, annot=True, fmt='d', cmap='Blues', xticklabels=classes, yticklabels=classes)\n",
        "    plt.title(title)\n",
        "    plt.xlabel('Predicted')\n",
        "    plt.ylabel('True')\n",
        "    plt.show()"
      ],
      "metadata": {
        "id": "XRrhtu9642ln"
      },
      "execution_count": 8,
      "outputs": []
    },
    {
      "cell_type": "code",
      "source": [
        "train_model(model, train_loader, val_loader, criterion, optimizer, num_epochs)"
      ],
      "metadata": {
        "colab": {
          "base_uri": "https://localhost:8080/"
        },
        "id": "7lSeHcxNACd9",
        "outputId": "2dd3aa02-ae3b-490b-e470-d62707aff8db"
      },
      "execution_count": null,
      "outputs": [
        {
          "output_type": "stream",
          "name": "stderr",
          "text": [
            "100%|██████████| 32/32 [12:05<00:00, 22.68s/it]\n"
          ]
        }
      ]
    },
    {
      "cell_type": "code",
      "source": [
        "model.load_state_dict(torch.load(models_root_dir + 'best_vit_model.pth'))\n",
        "\n",
        "all_labels_combined = []\n",
        "all_preds_combined = []\n",
        "\n",
        "for test_dir in test_dirs:\n",
        "    test_dataset = datasets.ImageFolder(test_dir, transform=transform)\n",
        "    test_loader = DataLoader(test_dataset, batch_size=batch_size, shuffle=False)\n",
        "\n",
        "    test_acc, all_labels, all_preds = evaluate_model(model, test_loader, criterion)\n",
        "    print(f\"Test Accuracy for {test_dir}: {test_acc:.4f}\")\n",
        "\n",
        "    cm = confusion_matrix(all_labels, all_preds, labels=[0, 1])\n",
        "    plot_confusion_matrix(cm, classes=['real', 'fake'], title=f'Confusion Matrix for {test_dir}')\n",
        "\n",
        "    all_labels_combined.extend(all_labels)\n",
        "    all_preds_combined.extend(all_preds)\n",
        "\n",
        "cm_combined = confusion_matrix(all_labels_combined, all_preds_combined, labels=[0, 1])\n",
        "print(f\"Average Accuracy: {np.mean([evaluate_model(model, DataLoader(datasets.ImageFolder(test_dir, transform=transform), batch_size=batch_size, shuffle=False), criterion)[0] for test_dir in test_dirs]):.4f}\")\n",
        "plot_confusion_matrix(cm_combined, classes=['real', 'fake'], title='Combined Confusion Matrix')"
      ],
      "metadata": {
        "id": "Q-Rd9sd64sIB"
      },
      "execution_count": null,
      "outputs": []
    }
  ]
}