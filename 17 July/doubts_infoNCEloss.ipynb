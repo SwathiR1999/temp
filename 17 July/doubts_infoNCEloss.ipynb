{
  "nbformat": 4,
  "nbformat_minor": 0,
  "metadata": {
    "colab": {
      "provenance": []
    },
    "kernelspec": {
      "name": "python3",
      "display_name": "Python 3"
    },
    "language_info": {
      "name": "python"
    }
  },
  "cells": [
    {
      "cell_type": "code",
      "source": [
        "import torch\n",
        "import torch.nn.functional as F"
      ],
      "metadata": {
        "id": "EMVD6KahwHt6"
      },
      "execution_count": 3,
      "outputs": []
    },
    {
      "cell_type": "code",
      "execution_count": 4,
      "metadata": {
        "id": "8DKzqdcbvcqm"
      },
      "outputs": [],
      "source": [
        "feats_a_tensor = torch.tensor([[0.1, 0.2],\n",
        "                              [0.3, 0.4],\n",
        "                              [0.5, 0.6]])\n",
        "\n",
        "feats_b_tensor = torch.tensor([[0.7, 0.8],\n",
        "                              [0.9, 1.0],\n",
        "                              [1.1, 1.2]])\n",
        "\n",
        "feats_c_tensor = torch.tensor([[1.3, 1.4],\n",
        "                              [1.5, 1.6],\n",
        "                              [1.7, 1.8]])\n",
        "\n",
        "\n",
        "feats_a_b_c_tensor = torch.cat([feats_a_tensor, feats_b_tensor, feats_c_tensor], dim=0)\n",
        "feats_tensors = [feats_a_b_c_tensor]\n",
        "temperatures = [0.07]"
      ]
    },
    {
      "cell_type": "code",
      "source": [
        "dual_nll = False\n",
        "for feats_idx, feats_tensor in enumerate(feats_tensors):\n",
        "    cos_sim = F.cosine_similarity(feats_tensor[:, None, :], feats_tensor[None, :, :], dim=-1)\n",
        "    self_mask = torch.eye(cos_sim.shape[0], dtype=torch.bool, device=\"cpu\")\n",
        "    cos_sim.masked_fill_(self_mask, -9e15)\n",
        "    #pos_mask = self_mask.roll(shifts=cos_sim.shape[0] // 3, dims=0)\n",
        "    pos_mask_1 = self_mask.roll(shifts=batch_size//3, dims=0)\n",
        "    pos_mask_2 = self_mask.roll(shifts=2 * batch_size//3, dims=0)\n",
        "    pos_mask = pos_mask_1 | pos_mask_2\n",
        "    cos_sim = cos_sim / temperatures[feats_idx]\n",
        "    nll = -cos_sim[pos_mask] + torch.logsumexp(cos_sim, dim=-1)\n",
        "    nll = nll.mean()\n",
        "    if not dual_nll:\n",
        "        dual_nll = nll\n",
        "    else:\n",
        "        dual_nll += nll\n",
        "        dual_nll /= 2"
      ],
      "metadata": {
        "id": "jtp1MNfmxnhT"
      },
      "execution_count": 6,
      "outputs": []
    },
    {
      "cell_type": "code",
      "source": [
        "cos_sim.shape"
      ],
      "metadata": {
        "colab": {
          "base_uri": "https://localhost:8080/",
          "height": 0
        },
        "id": "Fi0ehmxJyvOC",
        "outputId": "2f744ca1-3504-4ad1-828e-91fb34fa1316"
      },
      "execution_count": 13,
      "outputs": [
        {
          "output_type": "execute_result",
          "data": {
            "text/plain": [
              "torch.Size([9, 9])"
            ]
          },
          "metadata": {},
          "execution_count": 13
        }
      ]
    },
    {
      "cell_type": "code",
      "source": [
        "pos_mask"
      ],
      "metadata": {
        "colab": {
          "base_uri": "https://localhost:8080/",
          "height": 0
        },
        "id": "G1p_-hoPy_j6",
        "outputId": "e381334f-a4ea-4f68-ae62-5c3b1a106107"
      },
      "execution_count": 15,
      "outputs": [
        {
          "output_type": "execute_result",
          "data": {
            "text/plain": [
              "tensor([[False, False, False, False, False, False,  True, False, False],\n",
              "        [False, False, False, False, False, False, False,  True, False],\n",
              "        [False, False, False, False, False, False, False, False,  True],\n",
              "        [ True, False, False, False, False, False, False, False, False],\n",
              "        [False,  True, False, False, False, False, False, False, False],\n",
              "        [False, False,  True, False, False, False, False, False, False],\n",
              "        [False, False, False,  True, False, False, False, False, False],\n",
              "        [False, False, False, False,  True, False, False, False, False],\n",
              "        [False, False, False, False, False,  True, False, False, False]])"
            ]
          },
          "metadata": {},
          "execution_count": 15
        }
      ]
    },
    {
      "cell_type": "code",
      "source": [
        "cos_sim"
      ],
      "metadata": {
        "colab": {
          "base_uri": "https://localhost:8080/",
          "height": 0
        },
        "id": "UTMf6XOUy3Ax",
        "outputId": "bafce597-6113-47eb-c07f-0c5a34d5e8fd"
      },
      "execution_count": 14,
      "outputs": [
        {
          "output_type": "execute_result",
          "data": {
            "text/plain": [
              "tensor([[-1.2857e+17,  1.4055e+01,  1.3906e+01,  1.3823e+01,  1.3771e+01,\n",
              "          1.3736e+01,  1.3711e+01,  1.3691e+01,  1.3676e+01],\n",
              "        [ 1.4055e+01, -1.2857e+17,  1.4267e+01,  1.4245e+01,  1.4229e+01,\n",
              "          1.4217e+01,  1.4207e+01,  1.4200e+01,  1.4194e+01],\n",
              "        [ 1.3906e+01,  1.4267e+01, -1.2857e+17,  1.4282e+01,  1.4275e+01,\n",
              "          1.4270e+01,  1.4265e+01,  1.4261e+01,  1.4258e+01],\n",
              "        [ 1.3823e+01,  1.4245e+01,  1.4282e+01, -1.2857e+17,  1.4284e+01,\n",
              "          1.4282e+01,  1.4279e+01,  1.4277e+01,  1.4275e+01],\n",
              "        [ 1.3771e+01,  1.4229e+01,  1.4275e+01,  1.4284e+01, -1.2857e+17,\n",
              "          1.4285e+01,  1.4284e+01,  1.4283e+01,  1.4282e+01],\n",
              "        [ 1.3736e+01,  1.4217e+01,  1.4270e+01,  1.4282e+01,  1.4285e+01,\n",
              "         -1.2857e+17,  1.4285e+01,  1.4285e+01,  1.4284e+01],\n",
              "        [ 1.3711e+01,  1.4207e+01,  1.4265e+01,  1.4279e+01,  1.4284e+01,\n",
              "          1.4285e+01, -1.2857e+17,  1.4286e+01,  1.4285e+01],\n",
              "        [ 1.3691e+01,  1.4200e+01,  1.4261e+01,  1.4277e+01,  1.4283e+01,\n",
              "          1.4285e+01,  1.4286e+01, -1.2857e+17,  1.4286e+01],\n",
              "        [ 1.3676e+01,  1.4194e+01,  1.4258e+01,  1.4275e+01,  1.4282e+01,\n",
              "          1.4284e+01,  1.4285e+01,  1.4286e+01, -1.2857e+17]])"
            ]
          },
          "metadata": {},
          "execution_count": 14
        }
      ]
    },
    {
      "cell_type": "code",
      "source": [
        "batch_size = 9\n",
        "pos_mask_1 = self_mask.roll(shifts=batch_size//3, dims=0)\n",
        "pos_mask_2 = self_mask.roll(shifts=2 * batch_size//3, dims=0)\n",
        "pos_mask = pos_mask_1 | pos_mask_2"
      ],
      "metadata": {
        "id": "IEhkwDGrzPqv"
      },
      "execution_count": 16,
      "outputs": []
    },
    {
      "cell_type": "code",
      "source": [
        "pos_mask"
      ],
      "metadata": {
        "colab": {
          "base_uri": "https://localhost:8080/",
          "height": 0
        },
        "id": "LCzDCnY6zgFM",
        "outputId": "7c6c92b7-533e-4a07-a738-cdbe76c9abbe"
      },
      "execution_count": 17,
      "outputs": [
        {
          "output_type": "execute_result",
          "data": {
            "text/plain": [
              "tensor([[False, False, False,  True, False, False,  True, False, False],\n",
              "        [False, False, False, False,  True, False, False,  True, False],\n",
              "        [False, False, False, False, False,  True, False, False,  True],\n",
              "        [ True, False, False, False, False, False,  True, False, False],\n",
              "        [False,  True, False, False, False, False, False,  True, False],\n",
              "        [False, False,  True, False, False, False, False, False,  True],\n",
              "        [ True, False, False,  True, False, False, False, False, False],\n",
              "        [False,  True, False, False,  True, False, False, False, False],\n",
              "        [False, False,  True, False, False,  True, False, False, False]])"
            ]
          },
          "metadata": {},
          "execution_count": 17
        }
      ]
    },
    {
      "cell_type": "code",
      "source": [
        "cos_sim[pos_mask]"
      ],
      "metadata": {
        "colab": {
          "base_uri": "https://localhost:8080/",
          "height": 0
        },
        "id": "6DpSTDzn0NDa",
        "outputId": "03958318-c57d-4bf8-f7b3-cfd417c96195"
      },
      "execution_count": 19,
      "outputs": [
        {
          "output_type": "execute_result",
          "data": {
            "text/plain": [
              "tensor([13.8231, 13.7105, 14.2288, 14.1999, 14.2698, 14.2582, 13.8231, 14.2795,\n",
              "        14.2288, 14.2828, 14.2698, 14.2841, 13.7105, 14.2795, 14.1999, 14.2828,\n",
              "        14.2582, 14.2841])"
            ]
          },
          "metadata": {},
          "execution_count": 19
        }
      ]
    }
  ]
}