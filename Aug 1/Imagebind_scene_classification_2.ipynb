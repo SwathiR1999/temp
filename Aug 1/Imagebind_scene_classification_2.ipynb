{
  "cells": [
    {
      "cell_type": "code",
      "execution_count": 126,
      "metadata": {
        "colab": {
          "base_uri": "https://localhost:8080/"
        },
        "id": "qs4S4DDVgNhT",
        "outputId": "85b3f490-d30e-49d2-8b35-5c48086822c0"
      },
      "outputs": [
        {
          "output_type": "stream",
          "name": "stdout",
          "text": [
            "/content/drive/MyDrive/Aerial_Scene_Recognition\n"
          ]
        }
      ],
      "source": [
        "%cd /content/drive/MyDrive/Aerial_Scene_Recognition/"
      ]
    },
    {
      "cell_type": "code",
      "execution_count": 127,
      "metadata": {
        "id": "esdEG90Ygu8X"
      },
      "outputs": [],
      "source": [
        "# !pip install -r requirements.txt --quiet"
      ]
    },
    {
      "cell_type": "code",
      "execution_count": 128,
      "metadata": {
        "id": "4Do3NzEPgw64"
      },
      "outputs": [],
      "source": [
        "import os\n",
        "current_directory = os.getcwd()"
      ]
    },
    {
      "cell_type": "code",
      "execution_count": 129,
      "metadata": {
        "id": "x1U8KknFoea_"
      },
      "outputs": [],
      "source": [
        "import numpy as np\n",
        "label_list = np.load('train_val_labels_inputs.npy').tolist()"
      ]
    },
    {
      "cell_type": "code",
      "execution_count": 130,
      "metadata": {
        "id": "s_mRPE9wmz4y"
      },
      "outputs": [],
      "source": [
        "import h5py"
      ]
    },
    {
      "cell_type": "code",
      "execution_count": 131,
      "metadata": {
        "colab": {
          "base_uri": "https://localhost:8080/"
        },
        "id": "6m556KzOhVsv",
        "outputId": "d4a5837e-a1e0-431a-a6d1-4f07fd2222b3"
      },
      "outputs": [
        {
          "output_type": "stream",
          "name": "stdout",
          "text": [
            "Embeddings loaded from 'train_val_vision_embeddings.h5'\n",
            "(4012, 1024)\n"
          ]
        }
      ],
      "source": [
        "import numpy as np\n",
        "file_path = 'train_val_vision_embeddings.h5'\n",
        "\n",
        "# Open the HDF5 file\n",
        "with h5py.File(file_path, 'r') as h5f:\n",
        "    # Access the dataset\n",
        "    dataset = h5f['train_val_vision_embeddings']\n",
        "\n",
        "    # Load the data into a NumPy array\n",
        "    vision_embeddings = np.array(dataset)\n",
        "\n",
        "print(\"Embeddings loaded from 'train_val_vision_embeddings.h5'\")\n",
        "print(vision_embeddings.shape)  # Print the shape of the loaded embeddings"
      ]
    },
    {
      "cell_type": "code",
      "execution_count": 132,
      "metadata": {
        "colab": {
          "base_uri": "https://localhost:8080/"
        },
        "id": "NSTku0U6jDvc",
        "outputId": "c1c16133-4330-46d8-fd60-17ddbd815f8a"
      },
      "outputs": [
        {
          "output_type": "stream",
          "name": "stdout",
          "text": [
            "Embeddings loaded from 'train_val_audio_embeddings.h5'\n",
            "(4012, 1024)\n"
          ]
        }
      ],
      "source": [
        "file_path = 'train_val_audio_embeddings.h5'\n",
        "\n",
        "# Open the HDF5 file\n",
        "with h5py.File(file_path, 'r') as h5f:\n",
        "    # Access the dataset\n",
        "    dataset = h5f['train_val_audio_embeddings']\n",
        "\n",
        "    # Load the data into a NumPy array\n",
        "    audio_embeddings = np.array(dataset)\n",
        "\n",
        "print(\"Embeddings loaded from 'train_val_audio_embeddings.h5'\")\n",
        "print(audio_embeddings.shape)  # Print the shape of the loaded embeddings"
      ]
    },
    {
      "cell_type": "code",
      "source": [
        "def l2_normalize(arr):\n",
        "    norm = np.linalg.norm(arr)\n",
        "    normalized_arr = arr / norm\n",
        "    return normalized_arr"
      ],
      "metadata": {
        "id": "y2Rbawx-tJl3"
      },
      "execution_count": 133,
      "outputs": []
    },
    {
      "cell_type": "code",
      "execution_count": 134,
      "metadata": {
        "id": "DGgjo5uCnPk2"
      },
      "outputs": [],
      "source": [
        "X = []\n",
        "y = []\n",
        "for i in range(vision_embeddings.shape[0]):\n",
        "  concatenated_embedding = np.concatenate((l2_normalize(vision_embeddings[i]), l2_normalize(audio_embeddings[i])))\n",
        "  # concatenated_embedding = vision_embeddings[i] + audio_embeddings[i]\n",
        "  # np.save(f'concatenated_embedding_{i}.npy', concatenated_embedding)\n",
        "  X.append(concatenated_embedding)\n",
        "  y.append(label_list[i])"
      ]
    },
    {
      "cell_type": "code",
      "execution_count": 135,
      "metadata": {
        "id": "89SFfiRApGeR"
      },
      "outputs": [],
      "source": [
        "from sklearn.model_selection import train_test_split\n",
        "X_train, X_val, y_train, y_val = train_test_split(X, y, test_size=0.1, random_state=43)"
      ]
    },
    {
      "cell_type": "code",
      "source": [
        "from sklearn.preprocessing import StandardScaler\n",
        "sc = StandardScaler()\n",
        "X_train = sc.fit_transform(X_train)\n",
        "X_val = sc.transform(X_val)"
      ],
      "metadata": {
        "id": "f_D6b6Yp3EZm"
      },
      "execution_count": 136,
      "outputs": []
    },
    {
      "cell_type": "code",
      "source": [
        "from sklearn.decomposition import PCA\n",
        "pca = PCA(n_components = 1536)\n",
        "X_train = pca.fit_transform(X_train)\n",
        "X_val = pca.transform(X_val)"
      ],
      "metadata": {
        "id": "CpPjNgLb4UUs"
      },
      "execution_count": 137,
      "outputs": []
    },
    {
      "cell_type": "code",
      "source": [
        "for i in range(X_train.shape[0]):\n",
        "  X_train[i] = l2_normalize(X_train[i])\n",
        "for i in range(X_val.shape[0]):\n",
        "  X_val[i] = l2_normalize(X_val[i])"
      ],
      "metadata": {
        "id": "KFo2iHjo4xXe"
      },
      "execution_count": 138,
      "outputs": []
    },
    {
      "cell_type": "code",
      "execution_count": 139,
      "metadata": {
        "colab": {
          "base_uri": "https://localhost:8080/",
          "height": 74
        },
        "id": "IakZkvCPpM64",
        "outputId": "3c16cda7-b428-4530-b3e6-9c65a3f21774"
      },
      "outputs": [
        {
          "output_type": "execute_result",
          "data": {
            "text/plain": [
              "SVC(kernel='linear')"
            ],
            "text/html": [
              "<style>#sk-container-id-7 {color: black;background-color: white;}#sk-container-id-7 pre{padding: 0;}#sk-container-id-7 div.sk-toggleable {background-color: white;}#sk-container-id-7 label.sk-toggleable__label {cursor: pointer;display: block;width: 100%;margin-bottom: 0;padding: 0.3em;box-sizing: border-box;text-align: center;}#sk-container-id-7 label.sk-toggleable__label-arrow:before {content: \"▸\";float: left;margin-right: 0.25em;color: #696969;}#sk-container-id-7 label.sk-toggleable__label-arrow:hover:before {color: black;}#sk-container-id-7 div.sk-estimator:hover label.sk-toggleable__label-arrow:before {color: black;}#sk-container-id-7 div.sk-toggleable__content {max-height: 0;max-width: 0;overflow: hidden;text-align: left;background-color: #f0f8ff;}#sk-container-id-7 div.sk-toggleable__content pre {margin: 0.2em;color: black;border-radius: 0.25em;background-color: #f0f8ff;}#sk-container-id-7 input.sk-toggleable__control:checked~div.sk-toggleable__content {max-height: 200px;max-width: 100%;overflow: auto;}#sk-container-id-7 input.sk-toggleable__control:checked~label.sk-toggleable__label-arrow:before {content: \"▾\";}#sk-container-id-7 div.sk-estimator input.sk-toggleable__control:checked~label.sk-toggleable__label {background-color: #d4ebff;}#sk-container-id-7 div.sk-label input.sk-toggleable__control:checked~label.sk-toggleable__label {background-color: #d4ebff;}#sk-container-id-7 input.sk-hidden--visually {border: 0;clip: rect(1px 1px 1px 1px);clip: rect(1px, 1px, 1px, 1px);height: 1px;margin: -1px;overflow: hidden;padding: 0;position: absolute;width: 1px;}#sk-container-id-7 div.sk-estimator {font-family: monospace;background-color: #f0f8ff;border: 1px dotted black;border-radius: 0.25em;box-sizing: border-box;margin-bottom: 0.5em;}#sk-container-id-7 div.sk-estimator:hover {background-color: #d4ebff;}#sk-container-id-7 div.sk-parallel-item::after {content: \"\";width: 100%;border-bottom: 1px solid gray;flex-grow: 1;}#sk-container-id-7 div.sk-label:hover label.sk-toggleable__label {background-color: #d4ebff;}#sk-container-id-7 div.sk-serial::before {content: \"\";position: absolute;border-left: 1px solid gray;box-sizing: border-box;top: 0;bottom: 0;left: 50%;z-index: 0;}#sk-container-id-7 div.sk-serial {display: flex;flex-direction: column;align-items: center;background-color: white;padding-right: 0.2em;padding-left: 0.2em;position: relative;}#sk-container-id-7 div.sk-item {position: relative;z-index: 1;}#sk-container-id-7 div.sk-parallel {display: flex;align-items: stretch;justify-content: center;background-color: white;position: relative;}#sk-container-id-7 div.sk-item::before, #sk-container-id-7 div.sk-parallel-item::before {content: \"\";position: absolute;border-left: 1px solid gray;box-sizing: border-box;top: 0;bottom: 0;left: 50%;z-index: -1;}#sk-container-id-7 div.sk-parallel-item {display: flex;flex-direction: column;z-index: 1;position: relative;background-color: white;}#sk-container-id-7 div.sk-parallel-item:first-child::after {align-self: flex-end;width: 50%;}#sk-container-id-7 div.sk-parallel-item:last-child::after {align-self: flex-start;width: 50%;}#sk-container-id-7 div.sk-parallel-item:only-child::after {width: 0;}#sk-container-id-7 div.sk-dashed-wrapped {border: 1px dashed gray;margin: 0 0.4em 0.5em 0.4em;box-sizing: border-box;padding-bottom: 0.4em;background-color: white;}#sk-container-id-7 div.sk-label label {font-family: monospace;font-weight: bold;display: inline-block;line-height: 1.2em;}#sk-container-id-7 div.sk-label-container {text-align: center;}#sk-container-id-7 div.sk-container {/* jupyter's `normalize.less` sets `[hidden] { display: none; }` but bootstrap.min.css set `[hidden] { display: none !important; }` so we also need the `!important` here to be able to override the default hidden behavior on the sphinx rendered scikit-learn.org. See: https://github.com/scikit-learn/scikit-learn/issues/21755 */display: inline-block !important;position: relative;}#sk-container-id-7 div.sk-text-repr-fallback {display: none;}</style><div id=\"sk-container-id-7\" class=\"sk-top-container\"><div class=\"sk-text-repr-fallback\"><pre>SVC(kernel=&#x27;linear&#x27;)</pre><b>In a Jupyter environment, please rerun this cell to show the HTML representation or trust the notebook. <br />On GitHub, the HTML representation is unable to render, please try loading this page with nbviewer.org.</b></div><div class=\"sk-container\" hidden><div class=\"sk-item\"><div class=\"sk-estimator sk-toggleable\"><input class=\"sk-toggleable__control sk-hidden--visually\" id=\"sk-estimator-id-7\" type=\"checkbox\" checked><label for=\"sk-estimator-id-7\" class=\"sk-toggleable__label sk-toggleable__label-arrow\">SVC</label><div class=\"sk-toggleable__content\"><pre>SVC(kernel=&#x27;linear&#x27;)</pre></div></div></div></div></div>"
            ]
          },
          "metadata": {},
          "execution_count": 139
        }
      ],
      "source": [
        "from sklearn.svm import SVC\n",
        "svm_classifier = SVC(kernel='linear')  #'rbf\n",
        "svm_classifier.fit(X_train, y_train)"
      ]
    },
    {
      "cell_type": "code",
      "execution_count": 140,
      "metadata": {
        "colab": {
          "base_uri": "https://localhost:8080/"
        },
        "id": "WGDKyk0OpPfF",
        "outputId": "da9852f3-768d-4d1e-c221-dd5d21806366"
      },
      "outputs": [
        {
          "output_type": "stream",
          "name": "stdout",
          "text": [
            "Accuracy: 96.52%\n",
            "Precision: 96.54%\n",
            "Recall: 96.52%\n",
            "F1 Score: 96.45%\n"
          ]
        }
      ],
      "source": [
        "from sklearn.metrics import precision_recall_fscore_support, accuracy_score\n",
        "\n",
        "# Assuming y_pred and y_test are already defined\n",
        "y_pred = svm_classifier.predict(X_val)\n",
        "accuracy = accuracy_score(y_val, y_pred)\n",
        "\n",
        "# Calculate precision, recall, and F1 score\n",
        "precision, recall, f1, _ = precision_recall_fscore_support(y_val, y_pred, average='weighted')\n",
        "\n",
        "print(f\"Accuracy: {accuracy * 100:.2f}%\")\n",
        "print(f\"Precision: {precision * 100:.2f}%\")\n",
        "print(f\"Recall: {recall * 100:.2f}%\")\n",
        "print(f\"F1 Score: {f1 * 100:.2f}%\")"
      ]
    },
    {
      "cell_type": "markdown",
      "metadata": {
        "id": "dxAJyuq8rASf"
      },
      "source": [
        "# **Testing**"
      ]
    },
    {
      "cell_type": "code",
      "execution_count": 141,
      "metadata": {
        "id": "ODmsKGWirDmj"
      },
      "outputs": [],
      "source": [
        "test_label_list = np.load('test_labels_inputs.npy').tolist()"
      ]
    },
    {
      "cell_type": "code",
      "execution_count": 142,
      "metadata": {
        "colab": {
          "base_uri": "https://localhost:8080/"
        },
        "id": "oppfNn9Drd8m",
        "outputId": "814536b6-f00d-4622-8406-a033edbdf02e"
      },
      "outputs": [
        {
          "output_type": "stream",
          "name": "stdout",
          "text": [
            "Embeddings loaded from 'test_vision_embeddings.h5'\n",
            "(1063, 1024)\n"
          ]
        }
      ],
      "source": [
        "file_path = 'test_vision_embeddings.h5'\n",
        "\n",
        "# Open the HDF5 file\n",
        "with h5py.File(file_path, 'r') as h5f:\n",
        "    # Access the dataset\n",
        "    dataset = h5f['test_vision_embeddings']\n",
        "\n",
        "    # Load the data into a NumPy array\n",
        "    vision_embeddings = np.array(dataset)\n",
        "\n",
        "print(\"Embeddings loaded from 'test_vision_embeddings.h5'\")\n",
        "print(vision_embeddings.shape)"
      ]
    },
    {
      "cell_type": "code",
      "execution_count": 143,
      "metadata": {
        "colab": {
          "base_uri": "https://localhost:8080/"
        },
        "id": "Ye2QU9O7rmvb",
        "outputId": "d088b0e1-8efb-4654-ac19-6f963eedff4c"
      },
      "outputs": [
        {
          "output_type": "stream",
          "name": "stdout",
          "text": [
            "Embeddings loaded from 'test_audio_embeddings.h5'\n",
            "(1063, 1024)\n"
          ]
        }
      ],
      "source": [
        "file_path = 'test_audio_embeddings.h5'\n",
        "\n",
        "# Open the HDF5 file\n",
        "with h5py.File(file_path, 'r') as h5f:\n",
        "    # Access the dataset\n",
        "    dataset = h5f['test_audio_embeddings']\n",
        "\n",
        "    # Load the data into a NumPy array\n",
        "    audio_embeddings = np.array(dataset)\n",
        "\n",
        "print(\"Embeddings loaded from 'test_audio_embeddings.h5'\")\n",
        "print(audio_embeddings.shape)"
      ]
    },
    {
      "cell_type": "code",
      "execution_count": 144,
      "metadata": {
        "id": "Q18gPkeOr2pi"
      },
      "outputs": [],
      "source": [
        "X = []\n",
        "y = []\n",
        "for i in range(vision_embeddings.shape[0]):\n",
        "  concatenated_embedding = np.concatenate((l2_normalize(vision_embeddings[i]), l2_normalize(audio_embeddings[i])))\n",
        "  # concatenated_embedding = vision_embeddings[i] + audio_embeddings[i]\n",
        "  # np.save(f'concatenated_embedding_{i}.npy', concatenated_embedding)\n",
        "  X.append(concatenated_embedding)\n",
        "  y.append(test_label_list[i])"
      ]
    },
    {
      "cell_type": "code",
      "source": [
        "X = sc.transform(X)\n",
        "X = pca.transform(X)\n",
        "for i in range(X.shape[0]):\n",
        "  X[i] = l2_normalize(X[i])"
      ],
      "metadata": {
        "id": "Ji2g7C1o3Uve"
      },
      "execution_count": 145,
      "outputs": []
    },
    {
      "cell_type": "code",
      "execution_count": 146,
      "metadata": {
        "colab": {
          "base_uri": "https://localhost:8080/"
        },
        "id": "ouXz7rxHr-6t",
        "outputId": "e4e3aafd-5355-4c4c-b80b-0a1898fb71cf"
      },
      "outputs": [
        {
          "output_type": "stream",
          "name": "stdout",
          "text": [
            "Accuracy: 85.23%\n",
            "Precision: 85.29%\n",
            "Recall: 85.23%\n",
            "F1 Score: 84.72%\n"
          ]
        }
      ],
      "source": [
        "y_pred = svm_classifier.predict(X)\n",
        "\n",
        "accuracy = accuracy_score(y, y_pred)\n",
        "\n",
        "# Calculate precision, recall, and F1 score\n",
        "precision, recall, f1, _ = precision_recall_fscore_support(y, y_pred, average='weighted')\n",
        "\n",
        "print(f\"Accuracy: {accuracy * 100:.2f}%\")\n",
        "print(f\"Precision: {precision * 100:.2f}%\")\n",
        "print(f\"Recall: {recall * 100:.2f}%\")\n",
        "print(f\"F1 Score: {f1 * 100:.2f}%\")"
      ]
    }
  ],
  "metadata": {
    "accelerator": "GPU",
    "colab": {
      "gpuType": "L4",
      "provenance": []
    },
    "kernelspec": {
      "display_name": "Python 3",
      "name": "python3"
    },
    "language_info": {
      "name": "python"
    }
  },
  "nbformat": 4,
  "nbformat_minor": 0
}